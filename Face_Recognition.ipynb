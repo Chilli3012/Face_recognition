{
 "cells": [
  {
   "cell_type": "code",
   "execution_count": 1,
   "id": "237580e1",
   "metadata": {},
   "outputs": [],
   "source": [
    "import cv2\n",
    "import numpy as np\n",
    "import os\n",
    "import matplotlib as plt"
   ]
  },
  {
   "cell_type": "code",
   "execution_count": 2,
   "id": "889c93d9",
   "metadata": {},
   "outputs": [],
   "source": [
    "#KNN code\n",
    "def distance(v1,v2):\n",
    "    return np.sqrt(((v1-v2)**2).sum())\n",
    "\n",
    "\n",
    "def KNN(train,test,k=5):\n",
    "    dist=[]\n",
    "    \n",
    "    for i in range(train.shape[0]):\n",
    "        #get the vector and label\n",
    "        ix=train[i, :-1]\n",
    "        iy=train[i, -1]\n",
    "        #compute the distance form the test point\n",
    "        d=distance(test,ix)\n",
    "        dist.append([d,iy])\n",
    "        \n",
    "    #sort based on distance and get top k\n",
    "    dk=sorted(dist,key=lambda x:x[0])[:k]\n",
    "    #retrieve only labels\n",
    "    labels=np.array(dk)[:,-1]\n",
    "    \n",
    "    \n",
    "    #get frequence of each label\n",
    "    output=np.unique(labels,return_counts=True)\n",
    "    #find max frequency and corresponding label\n",
    "    index=np.argmax(output[1])\n",
    "    return output[0][index]"
   ]
  },
  {
   "cell_type": "code",
   "execution_count": 13,
   "id": "b9e9862f",
   "metadata": {},
   "outputs": [],
   "source": [
    "#init the carema\n",
    "cap=cv2.VideoCapture(0)"
   ]
  },
  {
   "cell_type": "code",
   "execution_count": 3,
   "id": "2c63bd34",
   "metadata": {},
   "outputs": [],
   "source": [
    "#face detection\n",
    "face_cascade=cv2.CascadeClassifier(\"/Users/anuragsingh/Desktop/cdMLAI/HaarCascade/haarcascade_frontalface_alt.xml\")"
   ]
  },
  {
   "cell_type": "code",
   "execution_count": 4,
   "id": "1d2838aa",
   "metadata": {},
   "outputs": [],
   "source": [
    "skip=0\n",
    "dataset_path='/Users/anuragsingh/Desktop/cdMLAI/Data/Face/'\n",
    "face_data=[]\n",
    "label=[]\n",
    "\n",
    "class_id=0#labels for the given file\n",
    "name={}#mapping btw id and name"
   ]
  },
  {
   "cell_type": "code",
   "execution_count": 5,
   "id": "117bc0e4",
   "metadata": {},
   "outputs": [],
   "source": [
    "\n",
    "#Data Preparation\n"
   ]
  },
  {
   "cell_type": "code",
   "execution_count": 6,
   "id": "bc9eb13e",
   "metadata": {},
   "outputs": [
    {
     "name": "stdout",
     "output_type": "stream",
     "text": [
      "Loaded satrudhan.npy\n",
      "(21, 30000)\n",
      "Loaded Anurag.npy\n",
      "(33, 30000)\n"
     ]
    }
   ],
   "source": [
    "for fx in os.listdir(dataset_path):\n",
    "    if fx.endswith('.npy'):\n",
    "        #Create a mapping btw class_id and name\n",
    "        name[class_id] = fx[:-4]\n",
    "        print(\"Loaded \"+fx)\n",
    "        data_item = np.load(dataset_path+fx)\n",
    "        face_data.append(data_item)\n",
    "        \n",
    "        \n",
    "        #create labels for the class\n",
    "        print(data_item.shape)\n",
    "        target=class_id*np.ones((data_item.shape[0],))\n",
    "        class_id+=1\n",
    "        label.append(target)"
   ]
  },
  {
   "cell_type": "code",
   "execution_count": 7,
   "id": "d8f92f88",
   "metadata": {},
   "outputs": [
    {
     "name": "stdout",
     "output_type": "stream",
     "text": [
      "(54, 30000)\n",
      "(54, 1)\n",
      "(54, 30001)\n"
     ]
    }
   ],
   "source": [
    "face_dataset=np.concatenate(face_data,axis=0)\n",
    "face_labels=np.concatenate(label,axis=0).reshape((-1,1))\n",
    "print(face_dataset.shape)\n",
    "print(face_labels.shape)\n",
    "\n",
    "\n",
    "trainset=np.concatenate((face_dataset,face_labels),axis=1)\n",
    "print(trainset.shape)#it will have one extra col for labels\n",
    "\n"
   ]
  },
  {
   "cell_type": "code",
   "execution_count": null,
   "id": "b836780a",
   "metadata": {},
   "outputs": [],
   "source": []
  },
  {
   "cell_type": "code",
   "execution_count": 8,
   "id": "c09c7320",
   "metadata": {},
   "outputs": [],
   "source": [
    "\n",
    "#testing\n"
   ]
  },
  {
   "cell_type": "code",
   "execution_count": null,
   "id": "1b33b937",
   "metadata": {},
   "outputs": [],
   "source": [
    "while True:\n",
    "    ret,frame=cap.read()\n",
    "    \n",
    "    if ret==False:\n",
    "        continue\n",
    "        \n",
    "    faces=face_cascade.detectMultiScale(frame,1.3,5)\n",
    "    \n",
    "    for face in faces:\n",
    "        x,y,w,h=face\n",
    "        \n",
    "        #get the face region of Interest\n",
    "        offset=10\n",
    "        face_section=frame[y-offset:y+h+offset,x-offset:x+w+offset]\n",
    "        face_section=cv2.resize(face_section,(100,100))#resize the shape of the image\n",
    "        \n",
    "        \n",
    "        \n",
    "        \n",
    "        #predicted label\n",
    "        out=KNN(trainset,face_section.flatten())\n",
    "        \n",
    "        \n",
    "        \n",
    "        \n",
    "        \n",
    "        #display on the screen the name and rectangle around it\n",
    "        pred_name=name[int(out)]\n",
    "        cv2.putText(frame,pred_name,(x,y-10),cv2.FONT_HERSHEY_SIMPLEX,1,(255,0,0),2,cv2.LINE_AA)\n",
    "        cv2.rectangle(frame,(x,y),(x+w,y+h),(0,255,255),2)\n",
    "        \n",
    "        \n",
    "    cv2.imshow(\"Faces\",frame)\n",
    "    \n",
    "    key=cv2.waitKey(1) & 0xFF\n",
    "    if key==ord('q'):\n",
    "        break\n",
    "\n",
    "        \n",
    "        \n",
    "cap.release()\n",
    "cv2.destroyAllWindows()"
   ]
  },
  {
   "cell_type": "code",
   "execution_count": null,
   "id": "8abb4da7",
   "metadata": {},
   "outputs": [],
   "source": []
  },
  {
   "cell_type": "code",
   "execution_count": 12,
   "id": "b135f4ec",
   "metadata": {},
   "outputs": [
    {
     "data": {
      "text/plain": [
       "['satrudhan.npy', 'Anurag.npy']"
      ]
     },
     "execution_count": 12,
     "metadata": {},
     "output_type": "execute_result"
    }
   ],
   "source": [
    "os.listdir(dataset_path)\n",
    "#print(dataset_path)"
   ]
  },
  {
   "cell_type": "code",
   "execution_count": null,
   "id": "d3bd024c",
   "metadata": {},
   "outputs": [],
   "source": []
  },
  {
   "cell_type": "code",
   "execution_count": null,
   "id": "e339416b",
   "metadata": {},
   "outputs": [],
   "source": []
  }
 ],
 "metadata": {
  "kernelspec": {
   "display_name": "Python 3.10.1 64-bit",
   "language": "python",
   "name": "python3101jvsc74a57bd0aee8b7b246df8f9039afb4144a1f6fd8d2ca17a180786b69acc140d282b71a49"
  },
  "language_info": {
   "codemirror_mode": {
    "name": "ipython",
    "version": 3
   },
   "file_extension": ".py",
   "mimetype": "text/x-python",
   "name": "python",
   "nbconvert_exporter": "python",
   "pygments_lexer": "ipython3",
   "version": "3.10.1"
  }
 },
 "nbformat": 4,
 "nbformat_minor": 5
}
