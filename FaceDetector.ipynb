{
 "cells": [
  {
   "cell_type": "code",
   "execution_count": 1,
   "id": "c9e44004",
   "metadata": {},
   "outputs": [],
   "source": [
    "import cv2"
   ]
  },
  {
   "cell_type": "code",
   "execution_count": null,
   "id": "8a13408f",
   "metadata": {},
   "outputs": [],
   "source": []
  },
  {
   "cell_type": "code",
   "execution_count": null,
   "id": "f9090e5c",
   "metadata": {},
   "outputs": [],
   "source": [
    "cap=cv2.VideoCapture(0)\n",
    "assert cap.isOpened()\n",
    "\n",
    "\n",
    "face_cascade=cv2.CascadeClassifier(\"../cdMLAI/HaarCascade/haarcascade_frontalface_alt.xml\")\n",
    "\n",
    "assert not face_cascade.empty()\n",
    "\n",
    "\n",
    "while True:\n",
    "    ret,frame=cap.read()\n",
    "    if not ret: break\n",
    "    gray_frame=cv2.cvtColor(frame,cv2.COLOR_BGR2GRAY)\n",
    "    \n",
    "    \n",
    "    \n",
    "    \n",
    "    if ret==False:\n",
    "        continue\n",
    "    \n",
    "    \n",
    "    faces=face_cascade.detectMultiScale(gray_frame,1.3,11)\n",
    "    \n",
    "    \n",
    "    \n",
    "    #cv2.imshow(\"Gray Frame\",gray_frame)\n",
    "    for(x,y,w,h) in faces:\n",
    "        cv2.rectangle(frame,(x,y),(x+w,y+h),(255,10,0),2)#to use this method we need to give both the opposite corners of the rectangle\n",
    "    \n",
    "    \n",
    "    \n",
    "    cv2.imshow(\"Video Frame\",frame)\n",
    "    \n",
    "    #Wait for the user -q ,then you will stop the loop\n",
    "    \n",
    "    key_pressed=cv2.waitKey(1)& 0xff\n",
    "    if key_pressed==ord('q'):\n",
    "        break\n",
    "    \n",
    "cap.release()\n",
    "cv2.destroyAllWindows"
   ]
  },
  {
   "cell_type": "code",
   "execution_count": null,
   "id": "8e7d052d",
   "metadata": {},
   "outputs": [],
   "source": []
  },
  {
   "cell_type": "code",
   "execution_count": null,
   "id": "fee9275e",
   "metadata": {},
   "outputs": [],
   "source": []
  },
  {
   "cell_type": "code",
   "execution_count": null,
   "id": "9f3e3122",
   "metadata": {},
   "outputs": [],
   "source": []
  },
  {
   "cell_type": "code",
   "execution_count": null,
   "id": "3744aec8",
   "metadata": {},
   "outputs": [],
   "source": []
  },
  {
   "cell_type": "code",
   "execution_count": null,
   "id": "fce7f028",
   "metadata": {},
   "outputs": [],
   "source": [
    "#Wait for the user -q ,then you will stop the loop"
   ]
  },
  {
   "cell_type": "code",
   "execution_count": null,
   "id": "9bb61391",
   "metadata": {},
   "outputs": [],
   "source": []
  },
  {
   "cell_type": "code",
   "execution_count": null,
   "id": "ee5e41fe",
   "metadata": {},
   "outputs": [],
   "source": []
  }
 ],
 "metadata": {
  "kernelspec": {
   "display_name": "Python 3 (ipykernel)",
   "language": "python",
   "name": "python3"
  },
  "language_info": {
   "codemirror_mode": {
    "name": "ipython",
    "version": 3
   },
   "file_extension": ".py",
   "mimetype": "text/x-python",
   "name": "python",
   "nbconvert_exporter": "python",
   "pygments_lexer": "ipython3",
   "version": "3.10.1"
  }
 },
 "nbformat": 4,
 "nbformat_minor": 5
}
